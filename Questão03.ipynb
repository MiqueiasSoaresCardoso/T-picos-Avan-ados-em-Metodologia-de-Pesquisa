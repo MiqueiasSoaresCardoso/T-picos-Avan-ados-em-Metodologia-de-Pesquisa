{
 "cells": [
  {
   "metadata": {},
   "cell_type": "markdown",
   "source": "# Selecione dois artigos de seu tema, que sejam referência para seu trabalho e que tenham usado quaisquer técnicas de análise exploratória de dados e analise metodologia das análises realizadas e os resultados obtidos, indicando se esses análises e esses resultados respondem as questões levantadas na pesquisa. Apresente alternativas de análises caso ache necessário.",
   "id": "34f00d8f9323c676"
  },
  {
   "metadata": {},
   "cell_type": "markdown",
   "source": [
    "<h1>ARTIGO 01</h1> \n",
    "https://drive.google.com/file/d/1-Ilau5eQjnBnsIxQTNB2hXWRGvkqTenZ/view?usp=sharing'"
   ],
   "id": "17cbbc21bdc8a47f"
  },
  {
   "metadata": {},
   "cell_type": "markdown",
   "source": [
    "Coleta de Dados:\n",
    "\n",
    "Participantes: O questionário foi respondido por 66 participantes, divididos em dois grupos: alunos de programação de segundo ano da Universidade de Dundee e professores de programação de todo o Reino Unido.\n",
    "\n",
    "Instrumento: O questionário consistia em três seções:\n",
    "\n",
    "Informações Básicas: Coletava dados sobre o background dos participantes, como o sistema operacional que usavam, a experiência com diferentes linguagens de programação e o tempo de experiência com programação.\n",
    "\n",
    "Avaliação de Dificuldade: Apresentava 28 tópicos de programação e pedia aos participantes para classificar a dificuldade de aprendizado de cada tópico em uma escala de 1 a 7, sendo 1 \"muito fácil\" e 7 \"muito difícil\". Os tópicos incluíam conceitos básicos de programação, como variáveis, funções e loops, além de conceitos mais complexos de programação orientada a objetos, como ponteiros, herança e polimorfismo.\n",
    "\n",
    "Comentários: Permitia que os participantes fornecessem comentários adicionais sobre tópicos que consideravam particularmente desafiadores.\n",
    "\n",
    "Método de Distribuição: O questionário foi distribuído online, sendo disponibilizado para os alunos de Dundee após o término do curso de programação orientada a objetos, e para os professores através da lista de e-mails do Learning and Teaching Support Network (LTSN)."
   ],
   "id": "3eb62cf862fdc723"
  },
  {
   "metadata": {},
   "cell_type": "markdown",
   "source": "# Análises Exploratória realizadas nesse artigo",
   "id": "3166c6b102251a5e"
  },
  {
   "metadata": {},
   "cell_type": "markdown",
   "source": [
    "<h3>Estatística descritiva</h3>\n",
    "\n",
    "<p>Para cada tópico foi calaculado uma pontuação média para alunos e professores sobre cada tópico mendionado no questionário, originando uma tabela com uma visão geral (Pagina 03  e 04 do artigo), porém descritiva que já nos dá uma ideia de quais seriam os conteúdos considerados mais dificeis</p>\n",
    "\n"
   ],
   "id": "d3cdc4df1a52a3b9"
  },
  {
   "metadata": {},
   "cell_type": "markdown",
   "source": [
    "Quatro primeiros resultados da médias das respostas dos professores\n",
    "<p><img src=\"./resultadosprof_tab.png\" alt=\"foo\" title=\"title\" /></p>"
   ],
   "id": "c5279e8b81897125"
  },
  {
   "metadata": {},
   "cell_type": "markdown",
   "source": [
    "Quatro primeiros resultados da médias das respostas dos alunos\n",
    "\n",
    "<p><img src=\"./resultadosalun_tab.png\" alt=\"foo\" title=\"title\" /></p>\n"
   ],
   "id": "aaf5b161dbb673eb"
  },
  {
   "metadata": {},
   "cell_type": "markdown",
   "source": "<p>Com base nesse recorte, é possivel perceber que os dados apontam que os assuntos relacionados a ponteiros, são considerados os mais dificeis de ensinar e aprender</p>",
   "id": "aeb6fae5e92af93a"
  },
  {
   "metadata": {},
   "cell_type": "markdown",
   "source": [
    "<h4>Teste T</h4>\n",
    "<p>No Artigo foi utilizado o teste T para avaliar a significância das diferenças entre as pontuações médias de diferentes tópicos de programação. Esse teste é utilizado para comparar as médias de dois grupos independentes, nesse caso, alunos e professores e a comparação entre tópicos</p>"
   ],
   "id": "7a7f59489c89b48d"
  },
  {
   "metadata": {},
   "cell_type": "markdown",
   "source": [
    "<p>Resultados do cálculo dos testes t para os tópicos principais, intermediários e inferiores (conforme classificados na Tabela 1) em relação a todos os outros tópicos do questionário. Neste caso, o grafíco se refere a tabela com as méidas dos professores\n",
    "</p>\n",
    "<p><img src=\"./testeT.png\" alt=\"foo\" title=\"title\" /></p>\n"
   ],
   "id": "83622db668fcdcd4"
  },
  {
   "metadata": {},
   "cell_type": "markdown",
   "source": "",
   "id": "79e5b00588f59ab0"
  },
  {
   "metadata": {},
   "cell_type": "markdown",
   "source": "O gráfico \"LTSN T-Tests\" mostra os resultados dos testes t realizados para comparar a dificuldade de três tópicos de programação - ponteiros (PTR), herança (INH) e declarações de variáveis/funções (VFD) - com todos os outros tópicos do questionário. Com base no gráfico é possivel notar que existe uma alta probabilidade para o tópico de ponteiros entre a faixa 5-6 de respostas no questionário, o que indica que uma boa parte dos respondentes selecionou optou pelas opções 5 e 6 (Alto nivél de dificuldade) ao avaliar o nivel de dificuldade em ponteiros, mostrando ser ele considerado o mais dificil, sem seguida temos herança com uma dificuldade moderada, e após o tópico de Declarações de Variáveis/Funções (VFD): ",
   "id": "19c414aa2f1ee722"
  },
  {
   "metadata": {},
   "cell_type": "markdown",
   "source": [
    "<h3>Correlação</h3>\n",
    "\n",
    "<p>A análise de correlação neste estudo foi usada para avaliar se os alunos e os professores tinham percepções semelhantes sobre a dificuldade dos tópicos de programação. O gráfico de dispersão, que é uma representação visual da correlação, foi criado com os dados de cada tópico.</p>"
   ],
   "id": "b545f2226e088576"
  },
  {
   "metadata": {},
   "cell_type": "markdown",
   "source": "<p><img src=\"./correlacao.png\" alt=\"foo\" title=\"title\" /></p>",
   "id": "6db2ee9ec0ab5b1c"
  },
  {
   "metadata": {},
   "cell_type": "markdown",
   "source": "Com base na análise do grafico, é perceptível uma correlação posistiva forte, entre as pontuações dadas pelos alunos, e a pontuação dada pelos professores em cada tópico, considerando que cada ponto no gráfico se refere a um assunto especifico, e que o eixo x se refere ao score dos professores, e o eixo y ao score dos alunos",
   "id": "26b91bd7e98c42e9"
  },
  {
   "metadata": {},
   "cell_type": "markdown",
   "source": [
    "<h3>Análise de Conteúdo</h3>\n",
    "<p> Como mencionado anteriomente, no questionário havia uma seção para a submissão de comentários adicionais, caso os participantes desejassem submeter alguma opinião/avaliação mais pessoal sobre algum tópico/dificuldade\n",
    "\n",
    "Os comentários foram analisados de forma sistemática para identificar padrões e temas recorrentes relacionados às dificuldades. Os autores procuravam por palavras-chave, frases e ideias que apareciam repetidamente, sinalizando as principais áreas de dificuldade e frustração dos participantes.Ao analisar os temas emergentes, os autores buscavam entender as razões por trás das dificuldades relatadas. Por exemplo, se vários participantes mencionavam \"ponteiros\" como um tópico difícil, a análise de conteúdo buscava entender por que os ponteiros eram considerados desafiadores (ex: falta de visualização do comportamento na memória, confusão com o uso de operadores de referência, etc.).A análise de conteúdo pretendia fornecer insights sobre como melhorar o ensino e o aprendizado de programação. Ao entender as razões por trás das dificuldades, os autores poderiam sugerir estratégias para tornar o ensino mais eficaz e desenvolver ferramentas de apoio ao aprendizado que atendessem às necessidades específicas dos alunos."
   ],
   "id": "be21bda2d535e9d9"
  },
  {
   "metadata": {},
   "cell_type": "markdown",
   "source": [
    "<h1>ARTIGO 2</h1>\n",
    "https://drive.google.com/file/d/1O4N22USJQ9lx_wpuhi6D8Iu6fhG4qPwv/view?usp=sharing"
   ],
   "id": "1736070ebe324e77"
  },
  {
   "metadata": {},
   "cell_type": "markdown",
   "source": [
    "<p>O Artigo anterior buscava compreender entre os principais tópicos abordados no estudo de computação, quais eram os considerados mais dificeis, tanto pelos alunos quanto pelos professores, e segundo a EDA realizada pelos autores, ficou provado que o tópico de ponteiros foi considerado o mais desafiador/dificil por ambos os casos. Entretanto, nesse artigo, os autores buscam entender com base na respostas a questões sobre ponteiros, quais sãos as dificuldades que eles enfrentam, e dentro da amplitude desse tópico, quais subtópicos/assuntos são os mais desafiadores, considerando a linguagem de programação C.</p>\n",
    "\n",
    "<h5>O estudo coletou dados de 341 estudantes de um curso de programação em C de segundo ano em uma universidade da América do Norte. Os dados foram coletados a partir de duas fontes, que foram exercicíos online e análise de código<h5>\n",
    "\n",
    "<p> Exercicios online: Eram compostos de exercios de multipla escolha e exercicios de programação, que poderiam ser submetidas várias vezez (diversas tentativas por questão eram possiveis),os exercícios de programação eram avaliados por um sistema online que informava aos estudantes se o código compilava e se passava nos testes.</p>\n",
    "\n",
    "<p>Análise de código: Os autores do estudo analisaram o código submetido pelos estudantes para os exercícios de programação. Eles identificaram os erros de compilação e analisaram as árvores de sintaxe abstrata (ASTs) geradas pelo código para identificar os erros lógicos.</p>"
   ],
   "id": "381b7f428963eacf"
  },
  {
   "metadata": {},
   "cell_type": "markdown",
   "source": [
    "<h3>Análise Exploratória</h3>\n",
    "\n",
    "<p> Com base nos dados coletados na plataforma utilizada para a submissão dos exercicios, os autores realizaram diversas análises exploratórias com os dados e conseguiram obter uma visão ampla sobre as nuances do aprendizado de ponteiros, segue abaixo as principais análises exploratórias feitas por eles, e o que elas indicam\n"
   ],
   "id": "40bbf5c2c9f51406"
  },
  {
   "metadata": {},
   "cell_type": "markdown",
   "source": [
    "<h4>Comparação de desempenho em pré-testes e pós-testes</h4>\n",
    "\n",
    "A comparação de desempenho em pré-testes e pós-testes foi uma das análises exploratórias cruciais realizadas neste estudo. Ela serviu para avaliar a efetividade dos exercícios de programação no ensino de conceitos de ponteiros aos alunos.\n",
    "\n",
    "O estudo usou testes pré e pós para avaliar a aprendizagem dos alunos sobre ponteiros em C.  \n",
    "\n",
    "- Eles criaram dois testes equivalentes (P1 e P2) com a mesma ordem de dificuldade, mas com a ordem das questões invertida. \n",
    "- Os alunos foram divididos em dois grupos, cada um recebendo um teste como pré-teste e o outro como pós-teste.\n",
    "- Compararam os resultados dos alunos em cada teste usando quatro medidas: porcentagem de acertos, churn, contagem até o acerto e último a mudar. \n",
    "- Observaram uma melhora no desempenho dos alunos após a realização dos exercícios, indicando que os exercícios foram eficientes em ensinar os conceitos.\n",
    "- Também identificaram quais conceitos foram mais desafiadores para os alunos."
   ],
   "id": "78f14bd1206a041"
  },
  {
   "metadata": {},
   "cell_type": "markdown",
   "source": [
    "<h3>Desempenho em perguntas SATA pré-teste/pós-teste</h3>\n",
    "<p><img src=\"./pre_pos_test.png\" alt=\"foo\" title=\"title\" /></p>"
   ],
   "id": "3ca3928df905213d"
  },
  {
   "metadata": {},
   "cell_type": "markdown",
   "source": "",
   "id": "28323485977cda3b"
  },
  {
   "metadata": {},
   "cell_type": "markdown",
   "source": [
    "A coluna \"Cor\" mostra que, em geral, os alunos tiveram um desempenho melhor no pós-teste do que no pré-teste. Isso sugere que os exercícios de programação ajudaram os alunos a melhorar seu entendimento sobre ponteiros.\n",
    "\n",
    "A coluna \"Gain\" mostra que o ganho de desempenho foi maior para os conceitos mais desafiadores, como \"Dereferencing on the RHS\" e \"Dereferencing pointers on both the LHS and RHS\". Isso sugere que os exercícios foram mais eficazes em ensinar esses conceitos específicos.\n",
    "\n",
    "As colunas \"Churn\", \"Until\" e \"Last\" fornecem informações mais detalhadas sobre o processo de aprendizagem dos alunos, mostrando como eles mudaram suas respostas ao longo do tempo."
   ],
   "id": "2ec2d41829f5b9ed"
  },
  {
   "metadata": {},
   "cell_type": "markdown",
   "source": [
    "<h3>Análise da frequência e tipo de erros</h3>\n",
    "\n",
    "Essa análise foi realizada com intuito de entender quais eram os principais erros cometidos pelos alunos, dentro do tópico de ponteiros e por qual motivo, com isso obteve-se a seguinte tabela"
   ],
   "id": "446647c666d5f00f"
  },
  {
   "metadata": {},
   "cell_type": "markdown",
   "source": "<p><img src=\"./estatistica_exerc.png\" alt=\"foo\" title=\"title\" /></p>",
   "id": "245d901c4e56e2c9"
  },
  {
   "metadata": {},
   "cell_type": "markdown",
   "source": "Com base nisso, o estudo descobriu que boa parte dos erros estavam relacionados a declaração de variaveis e tipos, o que sugere que os alunos precisam aprimorar o seu conhecimento na sintaxe básica da linguagem C. A análise poderia ter sido mais visualmente clara, com a utilização de gráficos como o barplot (grafico de barras), boxplot também seria interessante, no caso de avaliação dos principais erros por exemplo",
   "id": "fadfd188b94df8f8"
  },
  {
   "metadata": {},
   "cell_type": "markdown",
   "source": "<h3>Análise das questões de programação</h3>",
   "id": "c4ff309927fe0726"
  },
  {
   "metadata": {},
   "cell_type": "markdown",
   "source": "<p><img src=\"./taxonomia.png\" alt=\"foo\" title=\"title\" /></p>",
   "id": "3bfed800aba9db25"
  },
  {
   "metadata": {},
   "cell_type": "markdown",
   "source": [
    "A Tabela 3 do artigo, \"Taxonomia de conceitos de ponteiros em C\", é uma ferramenta central para analisar as questões de programação e identificar quais conceitos relacionados a ponteiros são realmente necessários para resolvê-las.\n",
    "\n",
    "Os autores concluem que a maioria das questões não exige que os alunos dominem a desreferenciação assimétrica, sugerindo que os alunos podem ter aprendido um \"modelo mental\" de como utilizar a desreferenciação simétrica, sem necessariamente dominar os conceitos básicos"
   ],
   "id": "3c84e002ee24d1d8"
  },
  {
   "metadata": {},
   "cell_type": "markdown",
   "source": "<h3>Análise das submissões incorretas para cada questão</h3>",
   "id": "eef7e50f9f6e038d"
  },
  {
   "metadata": {},
   "cell_type": "markdown",
   "source": "Q1: Declaring and Assigning Pointers (Tabela 4, página 5)",
   "id": "139aba15e490f664"
  },
  {
   "metadata": {},
   "cell_type": "markdown",
   "source": "<p><img src=\"./table04.png\" alt=\"foo\" title=\"title\" /></p>",
   "id": "b440da2c42b26297"
  },
  {
   "metadata": {},
   "cell_type": "markdown",
   "source": [
    "Esta questão solicitava aos alunos que declarassem ponteiros e atribuíssem os endereços de variáveis existentes a eles.\n",
    "\n",
    "A tabela 4 mostra os erros de compilação e os erros no código que compilava, mas que não funcionava corretamente.\n",
    "\n",
    "Os erros mais comuns encontrados nesta questão foram: variáveis não declaradas, uso incorreto do operador * para desreferenciar, confusão entre ponteiros e valores inteiros e declaração dupla de variáveis."
   ],
   "id": "171b6ffabd451e24"
  },
  {
   "metadata": {},
   "cell_type": "markdown",
   "source": "Q2: Pointers and Arrays (Tabela 5, página 6)",
   "id": "11be8ef690432d5d"
  },
  {
   "metadata": {},
   "cell_type": "markdown",
   "source": "",
   "id": "4c6b51b2af2f65b4"
  },
  {
   "metadata": {},
   "cell_type": "markdown",
   "source": "<p><img src=\"./table05.png\" alt=\"foo\" title=\"title\" /></p>",
   "id": "eafeab97e0e8fa8"
  },
  {
   "metadata": {},
   "cell_type": "markdown",
   "source": [
    "A Tabela 5 oferece um retrato dos erros mais comuns cometidos pelos alunos ao lidar com ponteiros para arrays. Essa informação é útil para professores entenderem as dificuldades dos alunos com esse tópico e para desenvolverem estratégias de ensino que possam ajudá-los a superar essas dificuldades.\n",
    "\n",
    "Com base nos dados coletados é perceptivel que a maior parte dos erros se concentra na atribuição de valores a ponteiros, invés de endereços, ou seja, os alunosn estavam passando para o ponteiro o valor em si, e não o endereço onde aquela variavel está armazenada na memória, em seguida o erro mais comum é  usar a notação de array para acessar o primeiro ou último elemento (17,5%) isso indica que os alunos não estão usando a aritmética de ponteiros da maneira correta para manipular arrays. Eles tentam acessar elementos diretamente usando a notação de colchetes [], como a[0] ou a[4], em vez de usar ponteiros e aritmética de ponteiros para obter os endereços dos elementos do array. Esse erro demonstra uma falta de compreensão da relação entre arrays e ponteiros"
   ],
   "id": "929dd0a6ad123f69"
  },
  {
   "metadata": {},
   "cell_type": "markdown",
   "source": "Q7: Hash (Tabela 6, página 7):",
   "id": "1d58f481302aa6c2"
  },
  {
   "metadata": {},
   "cell_type": "markdown",
   "source": "<p><img src=\"./hash.png\" alt=\"foo\" title=\"title\" /></p>",
   "id": "d70d3196e3c4f32a"
  },
  {
   "metadata": {},
   "cell_type": "markdown",
   "source": [
    "Esta questão solicitava aos alunos que chamassem uma função hash com um ponteiro para um inteiro como parâmetro.\n",
    "A tabela 6 destaca erros como passar um ponteiro incorreto como parâmetro, esquecer de desreferenciar o ponteiro, usar um ponteiro duplicado e confundir ponteiros com valores inteiros."
   ],
   "id": "2cddfbaf214ec60b"
  },
  {
   "metadata": {},
   "cell_type": "markdown",
   "source": "Q8: Invest (Tabela 7, página 8):",
   "id": "9b6c14bcce5aaa9a"
  },
  {
   "metadata": {},
   "cell_type": "markdown",
   "source": "<p><img src=\"./invest.png\" alt=\"foo\" title=\"title\" /></p>",
   "id": "6a87d1bda704dbdf"
  },
  {
   "metadata": {},
   "cell_type": "markdown",
   "source": "",
   "id": "c2a43534d8054546"
  },
  {
   "metadata": {},
   "cell_type": "markdown",
   "source": [
    "Esta questão solicitava aos alunos que escrevessem uma função invest que recebia dois parâmetros do tipo double (um ponteiro e um valor normal) e multiplicava o valor do ponteiro pelo valor recebido.\n",
    "A tabela 7 mostra que os erros mais comuns incluem usar o tipo de dados errado para os parâmetros da função, esquecer de desreferenciar o ponteiro para o valor double, usar o operador * em ambos os lados da atribuição, atribuir o resultado da operação a uma variável local e tentar retornar o valor da função."
   ],
   "id": "2c88ae155d83b5b4"
  }
 ],
 "metadata": {
  "kernelspec": {
   "display_name": "Python 3",
   "language": "python",
   "name": "python3"
  },
  "language_info": {
   "codemirror_mode": {
    "name": "ipython",
    "version": 2
   },
   "file_extension": ".py",
   "mimetype": "text/x-python",
   "name": "python",
   "nbconvert_exporter": "python",
   "pygments_lexer": "ipython2",
   "version": "2.7.6"
  }
 },
 "nbformat": 4,
 "nbformat_minor": 5
}
