{
 "cells": [
  {
   "cell_type": "code",
   "id": "initial_id",
   "metadata": {
    "collapsed": true,
    "ExecuteTime": {
     "end_time": "2024-10-22T13:52:04.024782Z",
     "start_time": "2024-10-22T13:52:04.009141Z"
    }
   },
   "source": [
    ""
   ],
   "outputs": [],
   "execution_count": 5
  },
  {
   "metadata": {},
   "cell_type": "markdown",
   "source": "1. Considerando o conjunto de dados Student Performance, disponível no link abaixo, e as abordagens discutidas em aula, encontre pelo menos quatro questões relevantes referentes às variáveis indicadas no conjunto e analise-as considerando as técnicas de Análise Exploratória de Dados. Considere ter pelo menos duas perguntas concentradas nas relações entre variáveis. Use o artigo Chi-Square Test in Python: A Technical Guide como referência;",
   "id": "e87f4709f4d496ba"
  },
  {
   "metadata": {},
   "cell_type": "markdown",
   "source": [
    "# Atributos para os conjuntos de dados student-mat.csv (curso de matemática) e student-por.csv (curso de língua portuguesa):\n",
    "1 school - escola do aluno (binário: \"GP\" - Gabriel Pereira ou \"MS\" - Mousinho da Silveira)\n",
    "\n",
    "2 sex - sexo do aluno (binário: \"F\" - feminino ou \"M\" - masculino)\n",
    "\n",
    "3 age - idade do aluno (numérica: de 15 a 22)\n",
    "\n",
    "4 address - tipo de endereço residencial do aluno (binário: \"U\" - urbano ou \"R\" - rural)\n",
    "\n",
    "5 famsize - tamanho da família (binário: \"LE3\" - menor ou igual a 3 ou \"GT3\" - maior que 3)\n",
    "\n",
    "6 Pstatus - status de coabitação dos pais (binário: \"T\" - vivendo juntos ou \"A\" - separados)\n",
    "\n",
    "7 Medu - educação da mãe (numérica: 0 - nenhuma, 1 - ensino fundamental (4ª série), 2ª - 5ª a 9ª série grau, 3 – ensino médio ou 4 – ensino superior)\n",
    "\n",
    "8 Fedu - educação do pai (numérico: 0 - nenhuma, 1 - ensino fundamental (4ª série), 2 – 5ª a 9ª série, 3 – ensino médio ou 4 – ensino superior)\n",
    "\n",
    "9 Mjob - emprego da mãe (nominal: \"professor\", relacionado a cuidados de \"saúde\", \"serviços\" civis (por exemplo, administrativo ou policial), \"em casa\" ou \"outro\")\n",
    "\n",
    "10 Fjob - emprego do pai (nominal: \"professor\", relacionado a cuidados de \"saúde\", \"serviços\" civis (por exemplo, administrativo ou policial), \"em casa\" ou \"outro\")\n",
    "\n",
    "11 motivo - motivo para escolher esta escola (nominal: perto de \"casa\", \"reputação\" da escola, preferência de \"curso\" ou \"outro\")\n",
    "\n",
    "12 tutor - tutor do aluno (nominal: \"mãe\", \"pai\" ou \"outro\")\n",
    "\n",
    "13 tempo de viagem - tempo de viagem de casa para a escola (numérico: 1 - <15 min., 2 - 15 a 30 min., 3 - 30 min. a 1 hora ou 4 - >1 hora)\n",
    "\n",
    "14 tempo de estudo - tempo de estudo semanal (numérico: 1 - <2 horas, 2 - 2 a 5 horas, 3 - 5 a 10 horas ou 4 - >10 horas)\n",
    "\n",
    "15 reprovações - número de reprovações de classe anteriores (numérico: n se 1<=n<3, senão 4)\n",
    "\n",
    "16 schoolsup - suporte educacional extra (binário: sim ou não)\n",
    "\n",
    "17 famsup - suporte educacional familiar (binário: sim ou não)\n",
    "\n",
    "18 pago - aulas extras pagas dentro da disciplina do curso (matemática ou português) (binário: sim ou não)\n",
    "\n",
    "19 atividades - atividades extracurriculares (binário: sim ou não)\n",
    "\n",
    "20 creche - frequentou creche (binário: sim ou não)\n",
    "\n",
    "21 superior - quer cursar ensino superior (binário: sim ou não)\n",
    "\n",
    "22 internet - acesso à internet em casa (binário: sim ou não)\n",
    "\n",
    "23 romântico - com um relacionamento amoroso (binário: sim ou não)\n",
    "\n",
    "24 famrel - qualidade dos relacionamentos familiares (numérico: de 1 - muito ruim a 5 - excelente)\n",
    "\n",
    "25 freetime - tempo livre depois da escola (numérico: de 1 - muito baixo a 5 - muito alto)\n",
    "\n",
    "26 goout - sair com amigos (numérico: de 1 - muito baixo a 5 - muito alto)\n",
    "\n",
    "27 Dalc - consumo de álcool durante o dia de trabalho (numérico: de 1 - muito baixo a 5 - muito alto)\n",
    "\n",
    "28 Walc - consumo de álcool no fim de semana (numérico: de 1 - muito baixo a 5 - muito alto)\n",
    "\n",
    "29 saúde - estado de saúde atual (numérico: de 1 - muito ruim a 5 - muito bom)\n",
    "\n",
    "30 ausências - número de faltas escolares (numérico: de 0 a 93)\n",
    "\n",
    "# essas notas estão relacionadas com a disciplina do curso, matemática ou português:\n",
    "31 G1 - nota do primeiro período (numérico: de 0 a 20)\n",
    "\n",
    "31 G2 - nota do segundo período (numérico: de 0 a 20)\n",
    "\n",
    "32 G3 - nota final (numérico: de 0 a 20, meta de saída)\n",
    "\n",
    "Nota adicional: há vários (382) alunos que pertencem a ambos os conjuntos de dados.\n",
    "Esses alunos podem ser identificados pela busca de atributos idênticos\n",
    "que caracterizam cada aluno, conforme mostrado no arquivo R em anexo."
   ],
   "id": "19fa29b6890165e3"
  },
  {
   "metadata": {
    "ExecuteTime": {
     "end_time": "2024-10-22T14:16:08.936354Z",
     "start_time": "2024-10-22T14:16:08.905148Z"
    }
   },
   "cell_type": "code",
   "source": [
    "#lendo os conjuntos de dados de português e matematica e renomeando as colunas\n",
    "import pandas as pd\n",
    "data_mat = pd.read_csv(r\"C:\\Users\\mique\\Downloads\\student+performance\\student\\student-mat.csv\", sep=';', names= ['escola', 'sexo', 'idade', 'endereço', 'tamanho_familia', 'status_relacionamento_casal', 'educacao_mae', 'educacao_pai',\n",
    "                                                                                                                 'trabalho_mãe', 'trabalho_pai', 'motivo', 'tutor_aluno', 'percurso_casa_escola', 'tp_estud_semanal',\n",
    "                                                                                                                 'n_reprovacoes', 'apoio_educacional_ext', 'apoio_educacional_famil', 'aulas_ext_pg', 'atv_extr_curr', 'freq_bercario',\n",
    "                                                                                                                 'pretende_super', 'internet_em_casa', 'possui_namro', 'qual_relac_famil', 'tempo livre', 'saída_com_amigos', 'Consum_alcoll_dia',\n",
    "                                                                                                                 'Consum_alcoll_fds', 'estado_saude', 'n_faltas_na_escola', 'G1', 'G2', 'G3'])\n",
    "dataframe_mat = pd.DataFrame(data_mat)\n",
    "data_mat"
   ],
   "id": "fa9b1c6c6ee031d6",
   "outputs": [
    {
     "data": {
      "text/plain": [
       "     escola sexo idade endereço tamanho_familia status_relacionamento_casal  \\\n",
       "0    school  sex   age  address         famsize                     Pstatus   \n",
       "1        GP    F    18        U             GT3                           A   \n",
       "2        GP    F    17        U             GT3                           T   \n",
       "3        GP    F    15        U             LE3                           T   \n",
       "4        GP    F    15        U             GT3                           T   \n",
       "..      ...  ...   ...      ...             ...                         ...   \n",
       "391      MS    M    20        U             LE3                           A   \n",
       "392      MS    M    17        U             LE3                           T   \n",
       "393      MS    M    21        R             GT3                           T   \n",
       "394      MS    M    18        R             LE3                           T   \n",
       "395      MS    M    19        U             LE3                           T   \n",
       "\n",
       "    educacao_mae educacao_pai trabalho_mãe trabalho_pai  ... qual_relac_famil  \\\n",
       "0           Medu         Fedu         Mjob         Fjob  ...           famrel   \n",
       "1              4            4      at_home      teacher  ...                4   \n",
       "2              1            1      at_home        other  ...                5   \n",
       "3              1            1      at_home        other  ...                4   \n",
       "4              4            2       health     services  ...                3   \n",
       "..           ...          ...          ...          ...  ...              ...   \n",
       "391            2            2     services     services  ...                5   \n",
       "392            3            1     services     services  ...                2   \n",
       "393            1            1        other        other  ...                5   \n",
       "394            3            2     services        other  ...                4   \n",
       "395            1            1        other      at_home  ...                3   \n",
       "\n",
       "    tempo livre saída_com_amigos Consum_alcoll_dia Consum_alcoll_fds  \\\n",
       "0      freetime            goout              Dalc              Walc   \n",
       "1             3                4                 1                 1   \n",
       "2             3                3                 1                 1   \n",
       "3             3                2                 2                 3   \n",
       "4             2                2                 1                 1   \n",
       "..          ...              ...               ...               ...   \n",
       "391           5                4                 4                 5   \n",
       "392           4                5                 3                 4   \n",
       "393           5                3                 3                 3   \n",
       "394           4                1                 3                 4   \n",
       "395           2                3                 3                 3   \n",
       "\n",
       "    estado_saude n_faltas_na_escola  G1  G2  G3  \n",
       "0         health           absences  G1  G2  G3  \n",
       "1              3                  6   5   6   6  \n",
       "2              3                  4   5   5   6  \n",
       "3              3                 10   7   8  10  \n",
       "4              5                  2  15  14  15  \n",
       "..           ...                ...  ..  ..  ..  \n",
       "391            4                 11   9   9   9  \n",
       "392            2                  3  14  16  16  \n",
       "393            3                  3  10   8   7  \n",
       "394            5                  0  11  12  10  \n",
       "395            5                  5   8   9   9  \n",
       "\n",
       "[396 rows x 33 columns]"
      ],
      "text/html": [
       "<div>\n",
       "<style scoped>\n",
       "    .dataframe tbody tr th:only-of-type {\n",
       "        vertical-align: middle;\n",
       "    }\n",
       "\n",
       "    .dataframe tbody tr th {\n",
       "        vertical-align: top;\n",
       "    }\n",
       "\n",
       "    .dataframe thead th {\n",
       "        text-align: right;\n",
       "    }\n",
       "</style>\n",
       "<table border=\"1\" class=\"dataframe\">\n",
       "  <thead>\n",
       "    <tr style=\"text-align: right;\">\n",
       "      <th></th>\n",
       "      <th>escola</th>\n",
       "      <th>sexo</th>\n",
       "      <th>idade</th>\n",
       "      <th>endereço</th>\n",
       "      <th>tamanho_familia</th>\n",
       "      <th>status_relacionamento_casal</th>\n",
       "      <th>educacao_mae</th>\n",
       "      <th>educacao_pai</th>\n",
       "      <th>trabalho_mãe</th>\n",
       "      <th>trabalho_pai</th>\n",
       "      <th>...</th>\n",
       "      <th>qual_relac_famil</th>\n",
       "      <th>tempo livre</th>\n",
       "      <th>saída_com_amigos</th>\n",
       "      <th>Consum_alcoll_dia</th>\n",
       "      <th>Consum_alcoll_fds</th>\n",
       "      <th>estado_saude</th>\n",
       "      <th>n_faltas_na_escola</th>\n",
       "      <th>G1</th>\n",
       "      <th>G2</th>\n",
       "      <th>G3</th>\n",
       "    </tr>\n",
       "  </thead>\n",
       "  <tbody>\n",
       "    <tr>\n",
       "      <th>0</th>\n",
       "      <td>school</td>\n",
       "      <td>sex</td>\n",
       "      <td>age</td>\n",
       "      <td>address</td>\n",
       "      <td>famsize</td>\n",
       "      <td>Pstatus</td>\n",
       "      <td>Medu</td>\n",
       "      <td>Fedu</td>\n",
       "      <td>Mjob</td>\n",
       "      <td>Fjob</td>\n",
       "      <td>...</td>\n",
       "      <td>famrel</td>\n",
       "      <td>freetime</td>\n",
       "      <td>goout</td>\n",
       "      <td>Dalc</td>\n",
       "      <td>Walc</td>\n",
       "      <td>health</td>\n",
       "      <td>absences</td>\n",
       "      <td>G1</td>\n",
       "      <td>G2</td>\n",
       "      <td>G3</td>\n",
       "    </tr>\n",
       "    <tr>\n",
       "      <th>1</th>\n",
       "      <td>GP</td>\n",
       "      <td>F</td>\n",
       "      <td>18</td>\n",
       "      <td>U</td>\n",
       "      <td>GT3</td>\n",
       "      <td>A</td>\n",
       "      <td>4</td>\n",
       "      <td>4</td>\n",
       "      <td>at_home</td>\n",
       "      <td>teacher</td>\n",
       "      <td>...</td>\n",
       "      <td>4</td>\n",
       "      <td>3</td>\n",
       "      <td>4</td>\n",
       "      <td>1</td>\n",
       "      <td>1</td>\n",
       "      <td>3</td>\n",
       "      <td>6</td>\n",
       "      <td>5</td>\n",
       "      <td>6</td>\n",
       "      <td>6</td>\n",
       "    </tr>\n",
       "    <tr>\n",
       "      <th>2</th>\n",
       "      <td>GP</td>\n",
       "      <td>F</td>\n",
       "      <td>17</td>\n",
       "      <td>U</td>\n",
       "      <td>GT3</td>\n",
       "      <td>T</td>\n",
       "      <td>1</td>\n",
       "      <td>1</td>\n",
       "      <td>at_home</td>\n",
       "      <td>other</td>\n",
       "      <td>...</td>\n",
       "      <td>5</td>\n",
       "      <td>3</td>\n",
       "      <td>3</td>\n",
       "      <td>1</td>\n",
       "      <td>1</td>\n",
       "      <td>3</td>\n",
       "      <td>4</td>\n",
       "      <td>5</td>\n",
       "      <td>5</td>\n",
       "      <td>6</td>\n",
       "    </tr>\n",
       "    <tr>\n",
       "      <th>3</th>\n",
       "      <td>GP</td>\n",
       "      <td>F</td>\n",
       "      <td>15</td>\n",
       "      <td>U</td>\n",
       "      <td>LE3</td>\n",
       "      <td>T</td>\n",
       "      <td>1</td>\n",
       "      <td>1</td>\n",
       "      <td>at_home</td>\n",
       "      <td>other</td>\n",
       "      <td>...</td>\n",
       "      <td>4</td>\n",
       "      <td>3</td>\n",
       "      <td>2</td>\n",
       "      <td>2</td>\n",
       "      <td>3</td>\n",
       "      <td>3</td>\n",
       "      <td>10</td>\n",
       "      <td>7</td>\n",
       "      <td>8</td>\n",
       "      <td>10</td>\n",
       "    </tr>\n",
       "    <tr>\n",
       "      <th>4</th>\n",
       "      <td>GP</td>\n",
       "      <td>F</td>\n",
       "      <td>15</td>\n",
       "      <td>U</td>\n",
       "      <td>GT3</td>\n",
       "      <td>T</td>\n",
       "      <td>4</td>\n",
       "      <td>2</td>\n",
       "      <td>health</td>\n",
       "      <td>services</td>\n",
       "      <td>...</td>\n",
       "      <td>3</td>\n",
       "      <td>2</td>\n",
       "      <td>2</td>\n",
       "      <td>1</td>\n",
       "      <td>1</td>\n",
       "      <td>5</td>\n",
       "      <td>2</td>\n",
       "      <td>15</td>\n",
       "      <td>14</td>\n",
       "      <td>15</td>\n",
       "    </tr>\n",
       "    <tr>\n",
       "      <th>...</th>\n",
       "      <td>...</td>\n",
       "      <td>...</td>\n",
       "      <td>...</td>\n",
       "      <td>...</td>\n",
       "      <td>...</td>\n",
       "      <td>...</td>\n",
       "      <td>...</td>\n",
       "      <td>...</td>\n",
       "      <td>...</td>\n",
       "      <td>...</td>\n",
       "      <td>...</td>\n",
       "      <td>...</td>\n",
       "      <td>...</td>\n",
       "      <td>...</td>\n",
       "      <td>...</td>\n",
       "      <td>...</td>\n",
       "      <td>...</td>\n",
       "      <td>...</td>\n",
       "      <td>...</td>\n",
       "      <td>...</td>\n",
       "      <td>...</td>\n",
       "    </tr>\n",
       "    <tr>\n",
       "      <th>391</th>\n",
       "      <td>MS</td>\n",
       "      <td>M</td>\n",
       "      <td>20</td>\n",
       "      <td>U</td>\n",
       "      <td>LE3</td>\n",
       "      <td>A</td>\n",
       "      <td>2</td>\n",
       "      <td>2</td>\n",
       "      <td>services</td>\n",
       "      <td>services</td>\n",
       "      <td>...</td>\n",
       "      <td>5</td>\n",
       "      <td>5</td>\n",
       "      <td>4</td>\n",
       "      <td>4</td>\n",
       "      <td>5</td>\n",
       "      <td>4</td>\n",
       "      <td>11</td>\n",
       "      <td>9</td>\n",
       "      <td>9</td>\n",
       "      <td>9</td>\n",
       "    </tr>\n",
       "    <tr>\n",
       "      <th>392</th>\n",
       "      <td>MS</td>\n",
       "      <td>M</td>\n",
       "      <td>17</td>\n",
       "      <td>U</td>\n",
       "      <td>LE3</td>\n",
       "      <td>T</td>\n",
       "      <td>3</td>\n",
       "      <td>1</td>\n",
       "      <td>services</td>\n",
       "      <td>services</td>\n",
       "      <td>...</td>\n",
       "      <td>2</td>\n",
       "      <td>4</td>\n",
       "      <td>5</td>\n",
       "      <td>3</td>\n",
       "      <td>4</td>\n",
       "      <td>2</td>\n",
       "      <td>3</td>\n",
       "      <td>14</td>\n",
       "      <td>16</td>\n",
       "      <td>16</td>\n",
       "    </tr>\n",
       "    <tr>\n",
       "      <th>393</th>\n",
       "      <td>MS</td>\n",
       "      <td>M</td>\n",
       "      <td>21</td>\n",
       "      <td>R</td>\n",
       "      <td>GT3</td>\n",
       "      <td>T</td>\n",
       "      <td>1</td>\n",
       "      <td>1</td>\n",
       "      <td>other</td>\n",
       "      <td>other</td>\n",
       "      <td>...</td>\n",
       "      <td>5</td>\n",
       "      <td>5</td>\n",
       "      <td>3</td>\n",
       "      <td>3</td>\n",
       "      <td>3</td>\n",
       "      <td>3</td>\n",
       "      <td>3</td>\n",
       "      <td>10</td>\n",
       "      <td>8</td>\n",
       "      <td>7</td>\n",
       "    </tr>\n",
       "    <tr>\n",
       "      <th>394</th>\n",
       "      <td>MS</td>\n",
       "      <td>M</td>\n",
       "      <td>18</td>\n",
       "      <td>R</td>\n",
       "      <td>LE3</td>\n",
       "      <td>T</td>\n",
       "      <td>3</td>\n",
       "      <td>2</td>\n",
       "      <td>services</td>\n",
       "      <td>other</td>\n",
       "      <td>...</td>\n",
       "      <td>4</td>\n",
       "      <td>4</td>\n",
       "      <td>1</td>\n",
       "      <td>3</td>\n",
       "      <td>4</td>\n",
       "      <td>5</td>\n",
       "      <td>0</td>\n",
       "      <td>11</td>\n",
       "      <td>12</td>\n",
       "      <td>10</td>\n",
       "    </tr>\n",
       "    <tr>\n",
       "      <th>395</th>\n",
       "      <td>MS</td>\n",
       "      <td>M</td>\n",
       "      <td>19</td>\n",
       "      <td>U</td>\n",
       "      <td>LE3</td>\n",
       "      <td>T</td>\n",
       "      <td>1</td>\n",
       "      <td>1</td>\n",
       "      <td>other</td>\n",
       "      <td>at_home</td>\n",
       "      <td>...</td>\n",
       "      <td>3</td>\n",
       "      <td>2</td>\n",
       "      <td>3</td>\n",
       "      <td>3</td>\n",
       "      <td>3</td>\n",
       "      <td>5</td>\n",
       "      <td>5</td>\n",
       "      <td>8</td>\n",
       "      <td>9</td>\n",
       "      <td>9</td>\n",
       "    </tr>\n",
       "  </tbody>\n",
       "</table>\n",
       "<p>396 rows × 33 columns</p>\n",
       "</div>"
      ]
     },
     "execution_count": 13,
     "metadata": {},
     "output_type": "execute_result"
    }
   ],
   "execution_count": 13
  },
  {
   "metadata": {
    "SqlCellData": {
     "variableName$1": "df_sql"
    }
   },
   "cell_type": "code",
   "outputs": [],
   "execution_count": null,
   "source": "%%sql\n",
   "id": "2c5cf2ef4404aaf0"
  },
  {
   "metadata": {},
   "cell_type": "markdown",
   "source": [
    "# Existe uma relação entre o tempo de estudo semanal (tp_estud_semanal) e o desempenho dos alunos (G3)?\n",
    "\n",
    "Verificar se existe uma relação entre o tempo de estudo semanal dos alunos e seu desempenho acadêmico\n",
    "\n",
    "tp_estud_semanal: Tempo de estudo semanal (categórico, representado como:\n",
    "1: < 2 horas,\n",
    "2: 2 a 5 horas,\n",
    "3: 5 a 10 horas,\n",
    "4: > 10 horas).\n",
    "\n",
    "G3: Nota final (numérico, variando de 0 a 20).\n"
   ],
   "id": "868d74231eea263f"
  },
  {
   "metadata": {
    "ExecuteTime": {
     "end_time": "2024-10-22T14:33:07.044487Z",
     "start_time": "2024-10-22T14:33:07.028862Z"
    }
   },
   "cell_type": "code",
   "source": [
    "#Calulando a média de estudo\n",
    "# Exibir as primeiras linhas do DataFrame\n",
    "print(data_mat.head())\n",
    "\n",
    "# Verificar os tipos de dados\n",
    "print(data_mat.dtypes)\n"
   ],
   "id": "9974682f70c28039",
   "outputs": [
    {
     "name": "stdout",
     "output_type": "stream",
     "text": [
      "   escola sexo idade endereço tamanho_familia status_relacionamento_casal  \\\n",
      "0  school  sex   age  address         famsize                     Pstatus   \n",
      "1      GP    F    18        U             GT3                           A   \n",
      "2      GP    F    17        U             GT3                           T   \n",
      "3      GP    F    15        U             LE3                           T   \n",
      "4      GP    F    15        U             GT3                           T   \n",
      "\n",
      "  educacao_mae educacao_pai trabalho_mãe trabalho_pai  ... qual_relac_famil  \\\n",
      "0         Medu         Fedu         Mjob         Fjob  ...           famrel   \n",
      "1            4            4      at_home      teacher  ...                4   \n",
      "2            1            1      at_home        other  ...                5   \n",
      "3            1            1      at_home        other  ...                4   \n",
      "4            4            2       health     services  ...                3   \n",
      "\n",
      "  tempo livre saída_com_amigos Consum_alcoll_dia Consum_alcoll_fds  \\\n",
      "0    freetime            goout              Dalc              Walc   \n",
      "1           3                4                 1                 1   \n",
      "2           3                3                 1                 1   \n",
      "3           3                2                 2                 3   \n",
      "4           2                2                 1                 1   \n",
      "\n",
      "  estado_saude n_faltas_na_escola  G1  G2  G3  \n",
      "0       health           absences  G1  G2  G3  \n",
      "1            3                  6   5   6   6  \n",
      "2            3                  4   5   5   6  \n",
      "3            3                 10   7   8  10  \n",
      "4            5                  2  15  14  15  \n",
      "\n",
      "[5 rows x 33 columns]\n",
      "escola                           object\n",
      "sexo                             object\n",
      "idade                            object\n",
      "endereço                         object\n",
      "tamanho_familia                  object\n",
      "status_relacionamento_casal    category\n",
      "educacao_mae                     object\n",
      "educacao_pai                     object\n",
      "trabalho_mãe                     object\n",
      "trabalho_pai                     object\n",
      "motivo                           object\n",
      "tutor_aluno                      object\n",
      "percurso_casa_escola             object\n",
      "tp_estud_semanal                 object\n",
      "n_reprovacoes                    object\n",
      "apoio_educacional_ext            object\n",
      "apoio_educacional_famil          object\n",
      "aulas_ext_pg                     object\n",
      "atv_extr_curr                    object\n",
      "freq_bercario                    object\n",
      "pretende_super                   object\n",
      "internet_em_casa                 object\n",
      "possui_namro                     object\n",
      "qual_relac_famil                 object\n",
      "tempo livre                      object\n",
      "saída_com_amigos                 object\n",
      "Consum_alcoll_dia                object\n",
      "Consum_alcoll_fds                object\n",
      "estado_saude                     object\n",
      "n_faltas_na_escola               object\n",
      "G1                               object\n",
      "G2                               object\n",
      "G3                               object\n",
      "dtype: object\n"
     ]
    }
   ],
   "execution_count": 20
  },
  {
   "metadata": {
    "ExecuteTime": {
     "end_time": "2024-10-22T14:39:43.096212Z",
     "start_time": "2024-10-22T14:39:43.080588Z"
    }
   },
   "cell_type": "code",
   "source": [
    "# Exibir informações sobre a coluna G3 e convertendo dado \"object para \"int'\n",
    "print(data_mat['G3'].unique())\n",
    "#data_mat.drop(index=0, inplace=True)\n",
    "#print(data_mat['G3'].unique())\n",
    "data_mat['G3'] = data_mat['G3'].astype(int)\n",
    "#print(data_mat.dtypes)"
   ],
   "id": "5d7d1b8c71bd7604",
   "outputs": [
    {
     "name": "stdout",
     "output_type": "stream",
     "text": [
      "[ 6 10 15 11 19  9 12 14 16  5  8 17 18 13 20  7  0  4]\n"
     ]
    }
   ],
   "execution_count": 29
  },
  {
   "metadata": {},
   "cell_type": "markdown",
   "source": "",
   "id": "96798bf3f0c326a7"
  },
  {
   "metadata": {},
   "cell_type": "code",
   "outputs": [],
   "execution_count": null,
   "source": "#Calculando a média global \"G3\" com base no tempo de estudo",
   "id": "fa615ab32a36f3f6"
  },
  {
   "metadata": {
    "ExecuteTime": {
     "end_time": "2024-10-22T14:42:57.569010Z",
     "start_time": "2024-10-22T14:42:57.553344Z"
    }
   },
   "cell_type": "code",
   "source": [
    "media_estudo = data_mat.groupby('tp_estud_semanal')['G3'].mean()\n",
    "print(media_estudo)\n",
    "#tempo de estudo - tempo de estudo semanal (numérico: 1 - <2 horas, 2 - 2 a 5 horas, 3 - 5 a 10 horas ou 4 - >10 horas)"
   ],
   "id": "c21409ab3c37b4a8",
   "outputs": [
    {
     "name": "stdout",
     "output_type": "stream",
     "text": [
      "tp_estud_semanal\n",
      "1    10.047619\n",
      "2    10.171717\n",
      "3    11.400000\n",
      "4    11.259259\n",
      "Name: G3, dtype: float64\n"
     ]
    }
   ],
   "execution_count": 31
  },
  {
   "metadata": {
    "ExecuteTime": {
     "end_time": "2024-10-22T14:48:00.587992Z",
     "start_time": "2024-10-22T14:48:00.351446Z"
    }
   },
   "cell_type": "code",
   "source": [
    "import matplotlib.pyplot as plt\n",
    "import seaborn as sns\n",
    "\n",
    "\n",
    "# Criar um gráfico de barras\n",
    "plt.figure(figsize=(10, 6))\n",
    "sns.barplot(x='tp_estud_semanal', y='G3', data=data_mat, palette='viridis')\n",
    "\n",
    "# Adicionar título e rótulos\n",
    "plt.title('Média da Nota Final (G3) por Tempo de Estudo Semanal', fontsize=16)\n",
    "plt.xlabel('Tempo de Estudo Semanal', fontsize=12)\n",
    "plt.ylabel('Média de G3', fontsize=12)\n",
    "\n",
    "# Exibir o gráfico\n",
    "plt.show()\n"
   ],
   "id": "a3c5123e9004cf8c",
   "outputs": [
    {
     "name": "stderr",
     "output_type": "stream",
     "text": [
      "C:\\Users\\mique\\AppData\\Local\\Temp\\ipykernel_17888\\444749983.py:7: FutureWarning: \n",
      "\n",
      "Passing `palette` without assigning `hue` is deprecated and will be removed in v0.14.0. Assign the `x` variable to `hue` and set `legend=False` for the same effect.\n",
      "\n",
      "  sns.barplot(x='tp_estud_semanal', y='G3', data=data_mat, palette='viridis')\n"
     ]
    },
    {
     "data": {
      "text/plain": [
       "<Figure size 1000x600 with 1 Axes>"
      ],
      "image/png": "[encoded data removed]"
     },
     "metadata": {},
     "output_type": "display_data"
    }
   ],
   "execution_count": 34
  },
  {
   "metadata": {
    "ExecuteTime": {
     "end_time": "2024-10-23T11:20:32.456430Z",
     "start_time": "2024-10-23T11:20:32.412365Z"
    }
   },
   "cell_type": "code",
   "source": [
    "# Calcular a correlação de Pearson\n",
    "correlation = data_mat['tp_estud_semanal'].corr(data_mat['G3'])\n",
    "print(correlation)\n"
   ],
   "id": "1a7ed1a96bd9d53",
   "outputs": [
    {
     "name": "stdout",
     "output_type": "stream",
     "text": [
      "0.09781968965319626\n"
     ]
    }
   ],
   "execution_count": 67
  },
  {
   "metadata": {},
   "cell_type": "markdown",
   "source": "*RESPOSTA = NÃO HÁ UMA RELAÇÃO FORTE, O QUE INDICA QUE O TEMPO DE ESTUDO SEMANAL NÃO POSSUI UM IMPACTO SIGNICATIVO NO DESEMPENHO DO ALUNO, POIS O COEFICIENTE DE PEARSON É 0.097... E PARA SER UMA RELAÇÃO POSISTIVA FORTE ELE DEVERIA ESTAR PROXIMO DE 1*",
   "id": "9198b3b82401e3b8"
  },
  {
   "metadata": {},
   "cell_type": "code",
   "outputs": [],
   "execution_count": null,
   "source": "",
   "id": "ba49d092d15f9a2a"
  },
  {
   "metadata": {},
   "cell_type": "markdown",
   "source": [
    "# Existe alguma relação entre o consumo de Alcool na semana e o desempeho em notas finais (G3)?\n",
    "\n",
    "Verificar se existe uma relação significativa entre o consumo de álcool no fim de semana e o desempenho acadêmico dos alunos, utilizando ferramentas como correlação, análise gráfica e possivelmente um teste estatístico.\n",
    "\n",
    "Variáveis envolvidas:\n",
    "Consum_alcoll_dia: Consumo de álcool no fim de semana (numérico: de 1 - muito baixo a 5 - muito alto).\n",
    "\n",
    "G3: Nota final (numérico: de 0 a 20)"
   ],
   "id": "553721fcc538af19"
  },
  {
   "metadata": {
    "ExecuteTime": {
     "end_time": "2024-10-22T15:18:09.127775Z",
     "start_time": "2024-10-22T15:18:08.912890Z"
    }
   },
   "cell_type": "code",
   "source": [
    "#Calculando as médias\n",
    "import seaborn as sns\n",
    "#consumo de álcool durante o dia de trabalho (numérico: de 1 - muito baixo a 5 - muito alto)\n",
    "media_consumo_alc = data_mat.groupby('Consum_alcoll_dia')['G3'].mean()\n",
    "print(media_consumo_alc)\n",
    "sns.boxplot(x='Consum_alcoll_dia',y='G3', data=data_mat)\n"
   ],
   "id": "5c73294000d9b7f",
   "outputs": [
    {
     "name": "stdout",
     "output_type": "stream",
     "text": [
      "Consum_alcoll_dia\n",
      "1    10.731884\n",
      "2     9.253333\n",
      "3    10.500000\n",
      "4     9.888889\n",
      "5    10.666667\n",
      "Name: G3, dtype: float64\n"
     ]
    },
    {
     "data": {
      "text/plain": [
       "<Axes: xlabel='Consum_alcoll_dia', ylabel='G3'>"
      ]
     },
     "execution_count": 44,
     "metadata": {},
     "output_type": "execute_result"
    },
    {
     "data": {
      "text/plain": [
       "<Figure size 640x480 with 1 Axes>"
      ],
      "image/png": "[encoded data removed]"
     },
     "metadata": {},
     "output_type": "display_data"
    }
   ],
   "execution_count": 44
  },
  {
   "metadata": {
    "ExecuteTime": {
     "end_time": "2024-10-22T15:24:05.613022Z",
     "start_time": "2024-10-22T15:24:05.346263Z"
    }
   },
   "cell_type": "code",
   "source": [
    "import matplotlib.pyplot as plt\n",
    "import seaborn as sns\n",
    "\n",
    "# Definir o estilo do gráfico\n",
    "sns.set(style=\"whitegrid\")\n",
    "\n",
    "# Criar um gráfico de barras\n",
    "plt.figure(figsize=(10, 6))\n",
    "sns.barplot(x='Consum_alcoll_dia', y='G3', data=data_mat, hue='Consum_alcoll_dia')\n",
    "\n",
    "# Adicionar título e rótulos\n",
    "plt.title('Média da Nota Final (G3) por Consumo de Álcool Durante o Dia de Trabalho', fontsize=16)\n",
    "plt.xlabel('Consumo de Álcool Durante o Dia (1 - Muito Baixo a 5 - Muito Alto)', fontsize=12)\n",
    "plt.ylabel('Média de G3', fontsize=12)\n",
    "\n",
    "# Exibir o gráfico\n",
    "plt.show()\n"
   ],
   "id": "7f8095cc878ef8cf",
   "outputs": [
    {
     "data": {
      "text/plain": [
       "<Figure size 1000x600 with 1 Axes>"
      ],
      "image/png": "[encoded data removed]"
     },
     "metadata": {},
     "output_type": "display_data"
    }
   ],
   "execution_count": 48
  },
  {
   "metadata": {
    "ExecuteTime": {
     "end_time": "2024-10-22T15:15:09.817057Z",
     "start_time": "2024-10-22T15:15:09.801516Z"
    }
   },
   "cell_type": "code",
   "source": [
    "correlacao = data_mat['Consum_alcoll_dia'].corr(data_mat['G3'])\n",
    "print(correlation)"
   ],
   "id": "c1d0b3639a9e3ce2",
   "outputs": [
    {
     "name": "stdout",
     "output_type": "stream",
     "text": [
      "0.09781968965319626\n"
     ]
    }
   ],
   "execution_count": 41
  },
  {
   "metadata": {},
   "cell_type": "markdown",
   "source": "*RESPOSTA = NÃO HÁ UMA RELAÇÃO FORTE, O QUE INDICA QUE O CONSUMO DE ALCOOL DURANTE A SEMANA NÃO POSSUI UM IMPACTO SIGNICATIVO NO DESEMPENHO DO ALUNO, POIS O COEFICIENTE DE PEARSON É 0.097... E PARA SER UMA RELAÇÃO POSISTIVA FORTE ELE DEVERIA ESTAR PROXIMO DE 1*",
   "id": "cecbb089c1413c2b"
  },
  {
   "metadata": {
    "ExecuteTime": {
     "end_time": "2024-10-22T15:19:31.528361Z",
     "start_time": "2024-10-22T15:19:31.416833Z"
    }
   },
   "cell_type": "code",
   "source": "",
   "id": "c90237ef09f831c0",
   "outputs": [
    {
     "ename": "ValueError",
     "evalue": "Must pass 2-d input. shape=()",
     "output_type": "error",
     "traceback": [
      "\u001B[1;31m---------------------------------------------------------------------------\u001B[0m",
      "\u001B[1;31mValueError\u001B[0m                                Traceback (most recent call last)",
      "Cell \u001B[1;32mIn[46], line 1\u001B[0m\n\u001B[1;32m----> 1\u001B[0m \u001B[43msns\u001B[49m\u001B[38;5;241;43m.\u001B[39;49m\u001B[43mheatmap\u001B[49m\u001B[43m(\u001B[49m\u001B[43mcorrelacao\u001B[49m\u001B[43m,\u001B[49m\u001B[43m \u001B[49m\u001B[43mannot\u001B[49m\u001B[38;5;241;43m=\u001B[39;49m\u001B[38;5;28;43;01mTrue\u001B[39;49;00m\u001B[43m)\u001B[49m\n",
      "File \u001B[1;32m~\\Downloads\\TopicosAvancados2710\\venv\\lib\\site-packages\\seaborn\\matrix.py:446\u001B[0m, in \u001B[0;36mheatmap\u001B[1;34m(data, vmin, vmax, cmap, center, robust, annot, fmt, annot_kws, linewidths, linecolor, cbar, cbar_kws, cbar_ax, square, xticklabels, yticklabels, mask, ax, **kwargs)\u001B[0m\n\u001B[0;32m    365\u001B[0m \u001B[38;5;250m\u001B[39m\u001B[38;5;124;03m\"\"\"Plot rectangular data as a color-encoded matrix.\u001B[39;00m\n\u001B[0;32m    366\u001B[0m \n\u001B[0;32m    367\u001B[0m \u001B[38;5;124;03mThis is an Axes-level function and will draw the heatmap into the\u001B[39;00m\n\u001B[1;32m   (...)\u001B[0m\n\u001B[0;32m    443\u001B[0m \n\u001B[0;32m    444\u001B[0m \u001B[38;5;124;03m\"\"\"\u001B[39;00m\n\u001B[0;32m    445\u001B[0m \u001B[38;5;66;03m# Initialize the plotter object\u001B[39;00m\n\u001B[1;32m--> 446\u001B[0m plotter \u001B[38;5;241m=\u001B[39m \u001B[43m_HeatMapper\u001B[49m\u001B[43m(\u001B[49m\u001B[43mdata\u001B[49m\u001B[43m,\u001B[49m\u001B[43m \u001B[49m\u001B[43mvmin\u001B[49m\u001B[43m,\u001B[49m\u001B[43m \u001B[49m\u001B[43mvmax\u001B[49m\u001B[43m,\u001B[49m\u001B[43m \u001B[49m\u001B[43mcmap\u001B[49m\u001B[43m,\u001B[49m\u001B[43m \u001B[49m\u001B[43mcenter\u001B[49m\u001B[43m,\u001B[49m\u001B[43m \u001B[49m\u001B[43mrobust\u001B[49m\u001B[43m,\u001B[49m\u001B[43m \u001B[49m\u001B[43mannot\u001B[49m\u001B[43m,\u001B[49m\u001B[43m \u001B[49m\u001B[43mfmt\u001B[49m\u001B[43m,\u001B[49m\n\u001B[0;32m    447\u001B[0m \u001B[43m                      \u001B[49m\u001B[43mannot_kws\u001B[49m\u001B[43m,\u001B[49m\u001B[43m \u001B[49m\u001B[43mcbar\u001B[49m\u001B[43m,\u001B[49m\u001B[43m \u001B[49m\u001B[43mcbar_kws\u001B[49m\u001B[43m,\u001B[49m\u001B[43m \u001B[49m\u001B[43mxticklabels\u001B[49m\u001B[43m,\u001B[49m\n\u001B[0;32m    448\u001B[0m \u001B[43m                      \u001B[49m\u001B[43myticklabels\u001B[49m\u001B[43m,\u001B[49m\u001B[43m \u001B[49m\u001B[43mmask\u001B[49m\u001B[43m)\u001B[49m\n\u001B[0;32m    450\u001B[0m \u001B[38;5;66;03m# Add the pcolormesh kwargs here\u001B[39;00m\n\u001B[0;32m    451\u001B[0m kwargs[\u001B[38;5;124m\"\u001B[39m\u001B[38;5;124mlinewidths\u001B[39m\u001B[38;5;124m\"\u001B[39m] \u001B[38;5;241m=\u001B[39m linewidths\n",
      "File \u001B[1;32m~\\Downloads\\TopicosAvancados2710\\venv\\lib\\site-packages\\seaborn\\matrix.py:110\u001B[0m, in \u001B[0;36m_HeatMapper.__init__\u001B[1;34m(self, data, vmin, vmax, cmap, center, robust, annot, fmt, annot_kws, cbar, cbar_kws, xticklabels, yticklabels, mask)\u001B[0m\n\u001B[0;32m    108\u001B[0m \u001B[38;5;28;01melse\u001B[39;00m:\n\u001B[0;32m    109\u001B[0m     plot_data \u001B[38;5;241m=\u001B[39m np\u001B[38;5;241m.\u001B[39masarray(data)\n\u001B[1;32m--> 110\u001B[0m     data \u001B[38;5;241m=\u001B[39m \u001B[43mpd\u001B[49m\u001B[38;5;241;43m.\u001B[39;49m\u001B[43mDataFrame\u001B[49m\u001B[43m(\u001B[49m\u001B[43mplot_data\u001B[49m\u001B[43m)\u001B[49m\n\u001B[0;32m    112\u001B[0m \u001B[38;5;66;03m# Validate the mask and convert to DataFrame\u001B[39;00m\n\u001B[0;32m    113\u001B[0m mask \u001B[38;5;241m=\u001B[39m _matrix_mask(data, mask)\n",
      "File \u001B[1;32m~\\Downloads\\TopicosAvancados2710\\venv\\lib\\site-packages\\pandas\\core\\frame.py:827\u001B[0m, in \u001B[0;36mDataFrame.__init__\u001B[1;34m(self, data, index, columns, dtype, copy)\u001B[0m\n\u001B[0;32m    816\u001B[0m         mgr \u001B[38;5;241m=\u001B[39m dict_to_mgr(\n\u001B[0;32m    817\u001B[0m             \u001B[38;5;66;03m# error: Item \"ndarray\" of \"Union[ndarray, Series, Index]\" has no\u001B[39;00m\n\u001B[0;32m    818\u001B[0m             \u001B[38;5;66;03m# attribute \"name\"\u001B[39;00m\n\u001B[1;32m   (...)\u001B[0m\n\u001B[0;32m    824\u001B[0m             copy\u001B[38;5;241m=\u001B[39m_copy,\n\u001B[0;32m    825\u001B[0m         )\n\u001B[0;32m    826\u001B[0m     \u001B[38;5;28;01melse\u001B[39;00m:\n\u001B[1;32m--> 827\u001B[0m         mgr \u001B[38;5;241m=\u001B[39m \u001B[43mndarray_to_mgr\u001B[49m\u001B[43m(\u001B[49m\n\u001B[0;32m    828\u001B[0m \u001B[43m            \u001B[49m\u001B[43mdata\u001B[49m\u001B[43m,\u001B[49m\n\u001B[0;32m    829\u001B[0m \u001B[43m            \u001B[49m\u001B[43mindex\u001B[49m\u001B[43m,\u001B[49m\n\u001B[0;32m    830\u001B[0m \u001B[43m            \u001B[49m\u001B[43mcolumns\u001B[49m\u001B[43m,\u001B[49m\n\u001B[0;32m    831\u001B[0m \u001B[43m            \u001B[49m\u001B[43mdtype\u001B[49m\u001B[38;5;241;43m=\u001B[39;49m\u001B[43mdtype\u001B[49m\u001B[43m,\u001B[49m\n\u001B[0;32m    832\u001B[0m \u001B[43m            \u001B[49m\u001B[43mcopy\u001B[49m\u001B[38;5;241;43m=\u001B[39;49m\u001B[43mcopy\u001B[49m\u001B[43m,\u001B[49m\n\u001B[0;32m    833\u001B[0m \u001B[43m            \u001B[49m\u001B[43mtyp\u001B[49m\u001B[38;5;241;43m=\u001B[39;49m\u001B[43mmanager\u001B[49m\u001B[43m,\u001B[49m\n\u001B[0;32m    834\u001B[0m \u001B[43m        \u001B[49m\u001B[43m)\u001B[49m\n\u001B[0;32m    836\u001B[0m \u001B[38;5;66;03m# For data is list-like, or Iterable (will consume into list)\u001B[39;00m\n\u001B[0;32m    837\u001B[0m \u001B[38;5;28;01melif\u001B[39;00m is_list_like(data):\n",
      "File \u001B[1;32m~\\Downloads\\TopicosAvancados2710\\venv\\lib\\site-packages\\pandas\\core\\internals\\construction.py:314\u001B[0m, in \u001B[0;36mndarray_to_mgr\u001B[1;34m(values, index, columns, dtype, copy, typ)\u001B[0m\n\u001B[0;32m    308\u001B[0m     _copy \u001B[38;5;241m=\u001B[39m (\n\u001B[0;32m    309\u001B[0m         copy_on_sanitize\n\u001B[0;32m    310\u001B[0m         \u001B[38;5;28;01mif\u001B[39;00m (dtype \u001B[38;5;129;01mis\u001B[39;00m \u001B[38;5;28;01mNone\u001B[39;00m \u001B[38;5;129;01mor\u001B[39;00m astype_is_view(values\u001B[38;5;241m.\u001B[39mdtype, dtype))\n\u001B[0;32m    311\u001B[0m         \u001B[38;5;28;01melse\u001B[39;00m \u001B[38;5;28;01mFalse\u001B[39;00m\n\u001B[0;32m    312\u001B[0m     )\n\u001B[0;32m    313\u001B[0m     values \u001B[38;5;241m=\u001B[39m np\u001B[38;5;241m.\u001B[39marray(values, copy\u001B[38;5;241m=\u001B[39m_copy)\n\u001B[1;32m--> 314\u001B[0m     values \u001B[38;5;241m=\u001B[39m \u001B[43m_ensure_2d\u001B[49m\u001B[43m(\u001B[49m\u001B[43mvalues\u001B[49m\u001B[43m)\u001B[49m\n\u001B[0;32m    316\u001B[0m \u001B[38;5;28;01melse\u001B[39;00m:\n\u001B[0;32m    317\u001B[0m     \u001B[38;5;66;03m# by definition an array here\u001B[39;00m\n\u001B[0;32m    318\u001B[0m     \u001B[38;5;66;03m# the dtypes will be coerced to a single dtype\u001B[39;00m\n\u001B[0;32m    319\u001B[0m     values \u001B[38;5;241m=\u001B[39m _prep_ndarraylike(values, copy\u001B[38;5;241m=\u001B[39mcopy_on_sanitize)\n",
      "File \u001B[1;32m~\\Downloads\\TopicosAvancados2710\\venv\\lib\\site-packages\\pandas\\core\\internals\\construction.py:592\u001B[0m, in \u001B[0;36m_ensure_2d\u001B[1;34m(values)\u001B[0m\n\u001B[0;32m    590\u001B[0m     values \u001B[38;5;241m=\u001B[39m values\u001B[38;5;241m.\u001B[39mreshape((values\u001B[38;5;241m.\u001B[39mshape[\u001B[38;5;241m0\u001B[39m], \u001B[38;5;241m1\u001B[39m))\n\u001B[0;32m    591\u001B[0m \u001B[38;5;28;01melif\u001B[39;00m values\u001B[38;5;241m.\u001B[39mndim \u001B[38;5;241m!=\u001B[39m \u001B[38;5;241m2\u001B[39m:\n\u001B[1;32m--> 592\u001B[0m     \u001B[38;5;28;01mraise\u001B[39;00m \u001B[38;5;167;01mValueError\u001B[39;00m(\u001B[38;5;124mf\u001B[39m\u001B[38;5;124m\"\u001B[39m\u001B[38;5;124mMust pass 2-d input. shape=\u001B[39m\u001B[38;5;132;01m{\u001B[39;00mvalues\u001B[38;5;241m.\u001B[39mshape\u001B[38;5;132;01m}\u001B[39;00m\u001B[38;5;124m\"\u001B[39m)\n\u001B[0;32m    593\u001B[0m \u001B[38;5;28;01mreturn\u001B[39;00m values\n",
      "\u001B[1;31mValueError\u001B[0m: Must pass 2-d input. shape=()"
     ]
    }
   ],
   "execution_count": 46
  },
  {
   "metadata": {},
   "cell_type": "code",
   "outputs": [],
   "execution_count": null,
   "source": "",
   "id": "1e88c41d03abb2a"
  },
  {
   "metadata": {},
   "cell_type": "markdown",
   "source": [
    "# Análise da Qualidade dos Relacionamentos Familiares e Desempenho Acadêmico\n",
    "\n",
    "A hipótese a ser testada é que uma melhor qualidade dos relacionamentos familiares está associada a notas finais mais altas. Ou seja, alunos que relatam ter melhores relacionamentos familiares tendem a ter um desempenho acadêmico superior.\n",
    "\n",
    "Variáveis\n",
    "\n",
    "Qualidade dos Relacionamentos Familiares (qual_relac_famil): Avaliação da qualidade dos relacionamentos familiares (numérico: de 1 - muito ruim a 5 - excelente).\n",
    "\n",
    "Desempenho Acadêmico (G3): Nota final (numérica de 0 a 20)."
   ],
   "id": "1effcc82e306b4a0"
  },
  {
   "metadata": {
    "ExecuteTime": {
     "end_time": "2024-10-22T17:26:37.064899Z",
     "start_time": "2024-10-22T17:26:36.835152Z"
    }
   },
   "cell_type": "code",
   "source": [
    "#Crindo um boxplot para ter uma visão inicial sobre a relação entre a qualidade dos relacionamentos familiares e as notas finais\n",
    "plt.figure(figsize=(12,6))\n",
    "sns.boxplot(data=data_mat,x=\"qual_relac_famil\", y= \"G3\")\n",
    "plt.title('Distribuição da Nota Final (G3) pela Qualidade dos Relacionamentos Familiares')\n",
    "plt.xlabel('Qualidade dos Relacionamentos Familiares')\n",
    "plt.ylabel('Nota Final (G3)')\n",
    "plt.xticks(rotation=45)\n",
    "plt.show()"
   ],
   "id": "d588384b7e195e9f",
   "outputs": [
    {
     "data": {
      "text/plain": [
       "<Figure size 1200x600 with 1 Axes>"
      ],
      "image/png": "[encoded data removed]"
     },
     "metadata": {},
     "output_type": "display_data"
    }
   ],
   "execution_count": 52
  },
  {
   "metadata": {
    "ExecuteTime": {
     "end_time": "2024-10-22T17:29:55.057389Z",
     "start_time": "2024-10-22T17:29:55.041821Z"
    }
   },
   "cell_type": "code",
   "source": [
    "correlacaoteste = data_mat['qual_relac_famil'].corr(data_mat['G3'])\n",
    "print(correlacaoteste)"
   ],
   "id": "5e56a688f92e81cd",
   "outputs": [
    {
     "name": "stdout",
     "output_type": "stream",
     "text": [
      "0.051363428881282154\n"
     ]
    }
   ],
   "execution_count": 54
  },
  {
   "metadata": {},
   "cell_type": "markdown",
   "source": "*RESPOSTA = NÃO HÁ UMA RELAÇÃO FORTE, O QUE INDICA QUE A QUALIDADE DOS RELACIONAMENTOS FAMILIARES NÃO POSSUI UM IMPACTO SIGNICATIVO NO DESEMPENHO DO ALUNO, POIS O COEFICIENTE DE PEARSON É 0.051... E PARA SER UMA RELAÇÃO POSISTIVA FORTE ELE DEVERIA ESTAR PROXIMO DE 1*",
   "id": "fdaad6f0663c08cf"
  },
  {
   "metadata": {},
   "cell_type": "code",
   "outputs": [],
   "execution_count": null,
   "source": "",
   "id": "86ff8beeba75f44b"
  },
  {
   "metadata": {},
   "cell_type": "markdown",
   "source": "",
   "id": "3580159185cb14a9"
  },
  {
   "metadata": {
    "ExecuteTime": {
     "end_time": "2024-10-22T17:38:54.390532Z",
     "start_time": "2024-10-22T17:38:54.374880Z"
    }
   },
   "cell_type": "code",
   "source": [
    "# Exemplo com Associação em Dados Categoricos\n",
    "\n",
    "#identificando os dados categoricos\n",
    "dados_categoricos = data_mat.select_dtypes(include=['object','category'])\n",
    "print(dados_categoricos.columns)"
   ],
   "id": "33de88f429e9c185",
   "outputs": [
    {
     "name": "stdout",
     "output_type": "stream",
     "text": [
      "Index(['escola', 'sexo', 'idade', 'endereço', 'tamanho_familia',\n",
      "       'status_relacionamento_casal', 'educacao_mae', 'educacao_pai',\n",
      "       'trabalho_mãe', 'trabalho_pai', 'motivo', 'tutor_aluno',\n",
      "       'percurso_casa_escola', 'tp_estud_semanal', 'n_reprovacoes',\n",
      "       'apoio_educacional_ext', 'apoio_educacional_famil', 'aulas_ext_pg',\n",
      "       'atv_extr_curr', 'freq_bercario', 'pretende_super', 'internet_em_casa',\n",
      "       'possui_namro', 'qual_relac_famil', 'tempo livre', 'saída_com_amigos',\n",
      "       'Consum_alcoll_dia', 'Consum_alcoll_fds', 'estado_saude',\n",
      "       'n_faltas_na_escola', 'G1', 'G2'],\n",
      "      dtype='object')\n"
     ]
    }
   ],
   "execution_count": 59
  },
  {
   "metadata": {},
   "cell_type": "markdown",
   "source": [
    "# Associação entre o tipo de moradia (address) e o tempo de estudo semanal (studytime)\n",
    "\n",
    "Existe uma associação entre o tipo de moradia do aluno (urbano ou rural) e o tempo de estudo semanal?\n",
    "\n",
    "address: Tipo de moradia (binário: \"U\" para urbano ou \"R\" para rural).\n",
    "\n",
    "studytime: Tempo de estudo semanal (numérico: 1 para <2 horas, 2 para 2-5 horas, 3 para 5-10 horas, 4 para >10 horas).\n"
   ],
   "id": "2f181347973c7efc"
  },
  {
   "metadata": {},
   "cell_type": "markdown",
   "source": "",
   "id": "94df5a4db9bee26f"
  },
  {
   "metadata": {
    "ExecuteTime": {
     "end_time": "2024-10-22T18:10:08.441469Z",
     "start_time": "2024-10-22T18:10:08.300833Z"
    }
   },
   "cell_type": "code",
   "source": [
    "#Criando uma tabela de contigência\n",
    "tabela = pd.crosstab(data_mat['endereço'],data_mat['tp_estud_semanal'])\n",
    "print(tabela)"
   ],
   "id": "1867f7b126d9c158",
   "outputs": [
    {
     "ename": "TypeError",
     "evalue": "crosstab() got multiple values for argument 'index'",
     "output_type": "error",
     "traceback": [
      "\u001B[1;31m---------------------------------------------------------------------------\u001B[0m",
      "\u001B[1;31mTypeError\u001B[0m                                 Traceback (most recent call last)",
      "Cell \u001B[1;32mIn[65], line 2\u001B[0m\n\u001B[0;32m      1\u001B[0m \u001B[38;5;66;03m#Criando uma tabela de contigência\u001B[39;00m\n\u001B[1;32m----> 2\u001B[0m tabela \u001B[38;5;241m=\u001B[39m \u001B[43mpd\u001B[49m\u001B[38;5;241;43m.\u001B[39;49m\u001B[43mcrosstab\u001B[49m\u001B[43m(\u001B[49m\u001B[43mdata_mat\u001B[49m\u001B[43m[\u001B[49m\u001B[38;5;124;43m'\u001B[39;49m\u001B[38;5;124;43mendereço\u001B[39;49m\u001B[38;5;124;43m'\u001B[39;49m\u001B[43m]\u001B[49m\u001B[43m,\u001B[49m\u001B[43mdata_mat\u001B[49m\u001B[43m[\u001B[49m\u001B[38;5;124;43m'\u001B[39;49m\u001B[38;5;124;43mtp_estud_semanal\u001B[39;49m\u001B[38;5;124;43m'\u001B[39;49m\u001B[43m]\u001B[49m\u001B[43m,\u001B[49m\u001B[43m \u001B[49m\u001B[43mindex\u001B[49m\u001B[38;5;241;43m=\u001B[39;49m\u001B[43m \u001B[49m\u001B[43mdata_mat\u001B[49m\u001B[43m[\u001B[49m\u001B[38;5;124;43m'\u001B[39;49m\u001B[38;5;124;43mtp_estud_semanal\u001B[39;49m\u001B[38;5;124;43m'\u001B[39;49m\u001B[43m]\u001B[49m\u001B[43m)\u001B[49m\n\u001B[0;32m      3\u001B[0m \u001B[38;5;28mprint\u001B[39m(tabela)\n",
      "\u001B[1;31mTypeError\u001B[0m: crosstab() got multiple values for argument 'index'"
     ]
    }
   ],
   "execution_count": 65
  },
  {
   "metadata": {
    "ExecuteTime": {
     "end_time": "2024-10-22T18:01:34.545575Z",
     "start_time": "2024-10-22T18:01:34.514076Z"
    }
   },
   "cell_type": "code",
   "source": [
    "from scipy.stats import chi2_contingency\n",
    "\n",
    "# Realizando o teste qui-quadrado\n",
    "chi2, p, dof, expected = chi2_contingency(tabela)\n",
    "\n",
    "print(f'Valor do Qui-Quadrado: {chi2}')\n",
    "print(f'Valor-p: {p}')\n",
    "\n"
   ],
   "id": "e8835b01be515e2a",
   "outputs": [
    {
     "name": "stdout",
     "output_type": "stream",
     "text": [
      "Valor do Qui-Quadrado: 5.159194559457368\n",
      "Valor-p: 0.16050445310206335\n"
     ]
    }
   ],
   "execution_count": 64
  },
  {
   "metadata": {},
   "cell_type": "markdown",
   "source": "*Não há relação entre o tipo de moradia e o tempo de estudo, pois o nosso valor \"p\" está acima de 0,05 o que indica que não há uma associação significativa entre os itens*",
   "id": "5d50442a36cda636"
  },
  {
   "metadata": {},
   "cell_type": "code",
   "outputs": [],
   "execution_count": null,
   "source": "",
   "id": "4da078c419a93381"
  },
  {
   "metadata": {},
   "cell_type": "code",
   "outputs": [],
   "execution_count": null,
   "source": "",
   "id": "d75064cdf4dc0acc"
  }
 ],
 "metadata": {
  "kernelspec": {
   "display_name": "Python 3",
   "language": "python",
   "name": "python3"
  },
  "language_info": {
   "codemirror_mode": {
    "name": "ipython",
    "version": 2
   },
   "file_extension": ".py",
   "mimetype": "text/x-python",
   "name": "python",
   "nbconvert_exporter": "python",
   "pygments_lexer": "ipython2",
   "version": "2.7.6"
  }
 },
 "nbformat": 4,
 "nbformat_minor": 5
}
